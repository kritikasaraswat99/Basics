{
  "nbformat": 4,
  "nbformat_minor": 0,
  "metadata": {
    "colab": {
      "name": "Pandas.ipynb",
      "provenance": [],
      "collapsed_sections": [],
      "authorship_tag": "ABX9TyMJMZPncN7hOajWVLqn/joW",
      "include_colab_link": true
    },
    "kernelspec": {
      "name": "python3",
      "display_name": "Python 3"
    }
  },
  "cells": [
    {
      "cell_type": "markdown",
      "metadata": {
        "id": "view-in-github",
        "colab_type": "text"
      },
      "source": [
        "<a href=\"https://colab.research.google.com/github/kritikasaraswat99/Basics/blob/main/Pandas.ipynb\" target=\"_parent\"><img src=\"https://colab.research.google.com/assets/colab-badge.svg\" alt=\"Open In Colab\"/></a>"
      ]
    },
    {
      "cell_type": "markdown",
      "metadata": {
        "id": "cvrI3X0NrMJP"
      },
      "source": [
        "Series- one dimentional array\r\n",
        "Dataframe - Two dimentional array"
      ]
    },
    {
      "cell_type": "code",
      "metadata": {
        "id": "X0OTYW53rIJk"
      },
      "source": [
        "import pandas as pd"
      ],
      "execution_count": 1,
      "outputs": []
    },
    {
      "cell_type": "code",
      "metadata": {
        "colab": {
          "base_uri": "https://localhost:8080/"
        },
        "id": "rgpLR975r-M5",
        "outputId": "aeea47f3-4515-4320-d151-d240b7f5dbae"
      },
      "source": [
        "#check pandas version\r\n",
        "print(pd.__version__)"
      ],
      "execution_count": 3,
      "outputs": [
        {
          "output_type": "stream",
          "text": [
            "1.1.5\n"
          ],
          "name": "stdout"
        }
      ]
    },
    {
      "cell_type": "markdown",
      "metadata": {
        "id": "YEnLEYGYsYmN"
      },
      "source": [
        "Series create, manipulate, querry, delete"
      ]
    },
    {
      "cell_type": "code",
      "metadata": {
        "colab": {
          "base_uri": "https://localhost:8080/"
        },
        "id": "FhKIyyDXsD-S",
        "outputId": "a51ea4d0-a851-4ea4-b9b8-022c58b44a2f"
      },
      "source": [
        "arr = [0,1,2,3,4]\r\n",
        "s1 = pd.Series(arr)\r\n",
        "s1"
      ],
      "execution_count": 5,
      "outputs": [
        {
          "output_type": "execute_result",
          "data": {
            "text/plain": [
              "0    0\n",
              "1    1\n",
              "2    2\n",
              "3    3\n",
              "4    4\n",
              "dtype: int64"
            ]
          },
          "metadata": {
            "tags": []
          },
          "execution_count": 5
        }
      ]
    },
    {
      "cell_type": "code",
      "metadata": {
        "colab": {
          "base_uri": "https://localhost:8080/"
        },
        "id": "PEOTADVPsXzE",
        "outputId": "ac15a555-6cd0-4572-f023-c18929d9abed"
      },
      "source": [
        "order = [1,2,3,4,5]\r\n",
        "s2 = pd.Series(arr, index=order)\r\n",
        "s2"
      ],
      "execution_count": 7,
      "outputs": [
        {
          "output_type": "execute_result",
          "data": {
            "text/plain": [
              "1    0\n",
              "2    1\n",
              "3    2\n",
              "4    3\n",
              "5    4\n",
              "dtype: int64"
            ]
          },
          "metadata": {
            "tags": []
          },
          "execution_count": 7
        }
      ]
    },
    {
      "cell_type": "code",
      "metadata": {
        "colab": {
          "base_uri": "https://localhost:8080/"
        },
        "id": "rm3N_in-sX1r",
        "outputId": "1445b2bf-c074-4c32-8a06-f90c5832fd2e"
      },
      "source": [
        "#creating series from dictionary\r\n",
        "d = {'a':1,'b':2,'c':3,'d':4,'e':5}\r\n",
        "s3 = pd.Series(d)\r\n",
        "s3"
      ],
      "execution_count": 9,
      "outputs": [
        {
          "output_type": "execute_result",
          "data": {
            "text/plain": [
              "a    1\n",
              "b    2\n",
              "c    3\n",
              "d    4\n",
              "e    5\n",
              "dtype: int64"
            ]
          },
          "metadata": {
            "tags": []
          },
          "execution_count": 9
        }
      ]
    },
    {
      "cell_type": "code",
      "metadata": {
        "colab": {
          "base_uri": "https://localhost:8080/"
        },
        "id": "7L-kvZ2EuGWp",
        "outputId": "4b5ab04f-2f24-4a97-bd85-70df38e75ca6"
      },
      "source": [
        "s1"
      ],
      "execution_count": 14,
      "outputs": [
        {
          "output_type": "execute_result",
          "data": {
            "text/plain": [
              "0    0\n",
              "1    1\n",
              "2    2\n",
              "3    3\n",
              "4    4\n",
              "dtype: int64"
            ]
          },
          "metadata": {
            "tags": []
          },
          "execution_count": 14
        }
      ]
    },
    {
      "cell_type": "code",
      "metadata": {
        "colab": {
          "base_uri": "https://localhost:8080/"
        },
        "id": "aLdii-v8sX4z",
        "outputId": "1e4504f5-adae-4380-8e83-063bbdd6b82c"
      },
      "source": [
        "#slicing\r\n",
        "a = s1[:3]\r\n",
        "print(a)\r\n",
        "b = s1[:-1]\r\n",
        "print(b)\r\n",
        "c = s1[-2:]\r\n",
        "print(c)"
      ],
      "execution_count": 17,
      "outputs": [
        {
          "output_type": "stream",
          "text": [
            "0    0\n",
            "1    1\n",
            "2    2\n",
            "dtype: int64\n",
            "0    0\n",
            "1    1\n",
            "2    2\n",
            "3    3\n",
            "dtype: int64\n",
            "3    3\n",
            "4    4\n",
            "dtype: int64\n"
          ],
          "name": "stdout"
        }
      ]
    },
    {
      "cell_type": "code",
      "metadata": {
        "colab": {
          "base_uri": "https://localhost:8080/"
        },
        "id": "aXFP3Y7dsX78",
        "outputId": "8b83d733-a9b1-4f52-95eb-57b5ab8aa436"
      },
      "source": [
        "#appnd\r\n",
        "s4 = s1.append(s3)\r\n",
        "s4"
      ],
      "execution_count": 18,
      "outputs": [
        {
          "output_type": "execute_result",
          "data": {
            "text/plain": [
              "0    0\n",
              "1    1\n",
              "2    2\n",
              "3    3\n",
              "4    4\n",
              "a    1\n",
              "b    2\n",
              "c    3\n",
              "d    4\n",
              "e    5\n",
              "dtype: int64"
            ]
          },
          "metadata": {
            "tags": []
          },
          "execution_count": 18
        }
      ]
    },
    {
      "cell_type": "code",
      "metadata": {
        "colab": {
          "base_uri": "https://localhost:8080/"
        },
        "id": "-q5hWRgssX-7",
        "outputId": "61201df9-db9d-40a7-f40d-1bd78d71e033"
      },
      "source": [
        "s4.drop('e') #imp"
      ],
      "execution_count": 19,
      "outputs": [
        {
          "output_type": "execute_result",
          "data": {
            "text/plain": [
              "0    0\n",
              "1    1\n",
              "2    2\n",
              "3    3\n",
              "4    4\n",
              "a    1\n",
              "b    2\n",
              "c    3\n",
              "d    4\n",
              "dtype: int64"
            ]
          },
          "metadata": {
            "tags": []
          },
          "execution_count": 19
        }
      ]
    },
    {
      "cell_type": "code",
      "metadata": {
        "colab": {
          "base_uri": "https://localhost:8080/"
        },
        "id": "ownJNdi0sYBz",
        "outputId": "e2d51fbc-9343-49e6-e317-2c722bb66c83"
      },
      "source": [
        "s4"
      ],
      "execution_count": 20,
      "outputs": [
        {
          "output_type": "execute_result",
          "data": {
            "text/plain": [
              "0    0\n",
              "1    1\n",
              "2    2\n",
              "3    3\n",
              "4    4\n",
              "a    1\n",
              "b    2\n",
              "c    3\n",
              "d    4\n",
              "e    5\n",
              "dtype: int64"
            ]
          },
          "metadata": {
            "tags": []
          },
          "execution_count": 20
        }
      ]
    },
    {
      "cell_type": "markdown",
      "metadata": {
        "id": "xTTN_tjdu9VK"
      },
      "source": [
        "SERIES OPERATIONS"
      ]
    },
    {
      "cell_type": "code",
      "metadata": {
        "colab": {
          "base_uri": "https://localhost:8080/"
        },
        "id": "xXRjHc5Nu2O5",
        "outputId": "05cd612f-fb98-4ac9-e2b8-ad3c2951f65f"
      },
      "source": [
        "arr1=[0,1,2,3,4,5,6,7]\r\n",
        "arr2=[6,7,8,9,5]\r\n",
        "s5 = pd.Series(arr1)\r\n",
        "s6 = pd.Series(arr2)\r\n",
        "print(\"s5=\\n\",s5,\"\\ns6=\\n\",s6)\r\n"
      ],
      "execution_count": 27,
      "outputs": [
        {
          "output_type": "stream",
          "text": [
            "s5=\n",
            " 0    0\n",
            "1    1\n",
            "2    2\n",
            "3    3\n",
            "4    4\n",
            "5    5\n",
            "6    6\n",
            "7    7\n",
            "dtype: int64 \n",
            "s6=\n",
            " 0    6\n",
            "1    7\n",
            "2    8\n",
            "3    9\n",
            "4    5\n",
            "dtype: int64\n"
          ],
          "name": "stdout"
        }
      ]
    },
    {
      "cell_type": "code",
      "metadata": {
        "colab": {
          "base_uri": "https://localhost:8080/"
        },
        "id": "GkHJNUy9wANz",
        "outputId": "9c531c0a-47ae-4cc6-d06a-abc098a88b39"
      },
      "source": [
        "s5.add(s6)"
      ],
      "execution_count": 28,
      "outputs": [
        {
          "output_type": "execute_result",
          "data": {
            "text/plain": [
              "0     6.0\n",
              "1     8.0\n",
              "2    10.0\n",
              "3    12.0\n",
              "4     9.0\n",
              "5     NaN\n",
              "6     NaN\n",
              "7     NaN\n",
              "dtype: float64"
            ]
          },
          "metadata": {
            "tags": []
          },
          "execution_count": 28
        }
      ]
    },
    {
      "cell_type": "code",
      "metadata": {
        "colab": {
          "base_uri": "https://localhost:8080/"
        },
        "id": "F_F7ZedOwxaD",
        "outputId": "95a964ab-73be-4f0d-97bb-32b6a48bcd5b"
      },
      "source": [
        "s5.sub(s6)"
      ],
      "execution_count": 29,
      "outputs": [
        {
          "output_type": "execute_result",
          "data": {
            "text/plain": [
              "0   -6.0\n",
              "1   -6.0\n",
              "2   -6.0\n",
              "3   -6.0\n",
              "4   -1.0\n",
              "5    NaN\n",
              "6    NaN\n",
              "7    NaN\n",
              "dtype: float64"
            ]
          },
          "metadata": {
            "tags": []
          },
          "execution_count": 29
        }
      ]
    },
    {
      "cell_type": "code",
      "metadata": {
        "colab": {
          "base_uri": "https://localhost:8080/"
        },
        "id": "zfR_ifxGw52E",
        "outputId": "d9eceb05-8177-4366-8416-c4e7e37eabbc"
      },
      "source": [
        "s5.mul(s6)"
      ],
      "execution_count": 30,
      "outputs": [
        {
          "output_type": "execute_result",
          "data": {
            "text/plain": [
              "0     0.0\n",
              "1     7.0\n",
              "2    16.0\n",
              "3    27.0\n",
              "4    20.0\n",
              "5     NaN\n",
              "6     NaN\n",
              "7     NaN\n",
              "dtype: float64"
            ]
          },
          "metadata": {
            "tags": []
          },
          "execution_count": 30
        }
      ]
    },
    {
      "cell_type": "code",
      "metadata": {
        "colab": {
          "base_uri": "https://localhost:8080/"
        },
        "id": "mXbjhpkOxCeU",
        "outputId": "bdbb5d49-3b3d-4983-a17b-2e17dbf263eb"
      },
      "source": [
        "s5.div(s6)"
      ],
      "execution_count": 31,
      "outputs": [
        {
          "output_type": "execute_result",
          "data": {
            "text/plain": [
              "0    0.000000\n",
              "1    0.142857\n",
              "2    0.250000\n",
              "3    0.333333\n",
              "4    0.800000\n",
              "5         NaN\n",
              "6         NaN\n",
              "7         NaN\n",
              "dtype: float64"
            ]
          },
          "metadata": {
            "tags": []
          },
          "execution_count": 31
        }
      ]
    },
    {
      "cell_type": "code",
      "metadata": {
        "colab": {
          "base_uri": "https://localhost:8080/"
        },
        "id": "tdkvJtU4xGVn",
        "outputId": "db6f17cb-e2aa-40cd-9eaa-a7b756baf44f"
      },
      "source": [
        "s6.median()"
      ],
      "execution_count": 32,
      "outputs": [
        {
          "output_type": "execute_result",
          "data": {
            "text/plain": [
              "7.0"
            ]
          },
          "metadata": {
            "tags": []
          },
          "execution_count": 32
        }
      ]
    },
    {
      "cell_type": "code",
      "metadata": {
        "colab": {
          "base_uri": "https://localhost:8080/"
        },
        "id": "X2gn9JY3xpyb",
        "outputId": "6e765468-684f-4950-e289-d58c016c6120"
      },
      "source": [
        "s6.max()"
      ],
      "execution_count": 33,
      "outputs": [
        {
          "output_type": "execute_result",
          "data": {
            "text/plain": [
              "9"
            ]
          },
          "metadata": {
            "tags": []
          },
          "execution_count": 33
        }
      ]
    },
    {
      "cell_type": "code",
      "metadata": {
        "colab": {
          "base_uri": "https://localhost:8080/"
        },
        "id": "qWYuwmBkxua1",
        "outputId": "6de76013-c8a0-41c8-d215-cfca0e2efe59"
      },
      "source": [
        "s6.min()"
      ],
      "execution_count": 34,
      "outputs": [
        {
          "output_type": "execute_result",
          "data": {
            "text/plain": [
              "5"
            ]
          },
          "metadata": {
            "tags": []
          },
          "execution_count": 34
        }
      ]
    },
    {
      "cell_type": "markdown",
      "metadata": {
        "id": "5IvGnGB_x9N0"
      },
      "source": [
        "Creating Dataframe"
      ]
    },
    {
      "cell_type": "code",
      "metadata": {
        "id": "wZ3bP6eh4hgF"
      },
      "source": [
        "import numpy as np"
      ],
      "execution_count": 100,
      "outputs": []
    },
    {
      "cell_type": "code",
      "metadata": {
        "id": "FLdWo1toxvtO"
      },
      "source": [
        "details = { \r\n",
        "    'Name' : ['Ankita', 'Aishwarya', 'ekansh', 'saumya'], \r\n",
        "    'Age' : [23, np.nan, 30, 24], \r\n",
        "    'University' : ['BHU', 'JNU', 'DU', 'BHU'], \r\n",
        "} "
      ],
      "execution_count": 160,
      "outputs": []
    },
    {
      "cell_type": "code",
      "metadata": {
        "colab": {
          "base_uri": "https://localhost:8080/"
        },
        "id": "Tn6RYIWHysv-",
        "outputId": "cb6a0e33-1829-4680-f335-d85c415042d8"
      },
      "source": [
        "details"
      ],
      "execution_count": 161,
      "outputs": [
        {
          "output_type": "execute_result",
          "data": {
            "text/plain": [
              "{'Age': [23, nan, 30, 24],\n",
              " 'Name': ['Ankita', 'Aishwarya', 'ekansh', 'saumya'],\n",
              " 'University': ['BHU', 'JNU', 'DU', 'BHU']}"
            ]
          },
          "metadata": {
            "tags": []
          },
          "execution_count": 161
        }
      ]
    },
    {
      "cell_type": "code",
      "metadata": {
        "colab": {
          "base_uri": "https://localhost:8080/",
          "height": 167
        },
        "id": "BnfErsJsyuPV",
        "outputId": "d83f12f6-672f-4b0a-bd6e-7a594627e59a"
      },
      "source": [
        "dataframe = pd.DataFrame(details)\r\n",
        "dataframe\r\n"
      ],
      "execution_count": 162,
      "outputs": [
        {
          "output_type": "execute_result",
          "data": {
            "text/html": [
              "<div>\n",
              "<style scoped>\n",
              "    .dataframe tbody tr th:only-of-type {\n",
              "        vertical-align: middle;\n",
              "    }\n",
              "\n",
              "    .dataframe tbody tr th {\n",
              "        vertical-align: top;\n",
              "    }\n",
              "\n",
              "    .dataframe thead th {\n",
              "        text-align: right;\n",
              "    }\n",
              "</style>\n",
              "<table border=\"1\" class=\"dataframe\">\n",
              "  <thead>\n",
              "    <tr style=\"text-align: right;\">\n",
              "      <th></th>\n",
              "      <th>Name</th>\n",
              "      <th>Age</th>\n",
              "      <th>University</th>\n",
              "    </tr>\n",
              "  </thead>\n",
              "  <tbody>\n",
              "    <tr>\n",
              "      <th>0</th>\n",
              "      <td>Ankita</td>\n",
              "      <td>23.0</td>\n",
              "      <td>BHU</td>\n",
              "    </tr>\n",
              "    <tr>\n",
              "      <th>1</th>\n",
              "      <td>Aishwarya</td>\n",
              "      <td>NaN</td>\n",
              "      <td>JNU</td>\n",
              "    </tr>\n",
              "    <tr>\n",
              "      <th>2</th>\n",
              "      <td>ekansh</td>\n",
              "      <td>30.0</td>\n",
              "      <td>DU</td>\n",
              "    </tr>\n",
              "    <tr>\n",
              "      <th>3</th>\n",
              "      <td>saumya</td>\n",
              "      <td>24.0</td>\n",
              "      <td>BHU</td>\n",
              "    </tr>\n",
              "  </tbody>\n",
              "</table>\n",
              "</div>"
            ],
            "text/plain": [
              "        Name   Age University\n",
              "0     Ankita  23.0        BHU\n",
              "1  Aishwarya   NaN        JNU\n",
              "2     ekansh  30.0         DU\n",
              "3     saumya  24.0        BHU"
            ]
          },
          "metadata": {
            "tags": []
          },
          "execution_count": 162
        }
      ]
    },
    {
      "cell_type": "code",
      "metadata": {
        "colab": {
          "base_uri": "https://localhost:8080/",
          "height": 167
        },
        "id": "cY6VuRhzyzPs",
        "outputId": "c4915206-7fbe-4088-885c-8aa52dbf34fe"
      },
      "source": [
        "#dataframe with index\r\n",
        "df= pd.DataFrame(details, index = ['a','b','c','d'])\r\n",
        "df"
      ],
      "execution_count": 163,
      "outputs": [
        {
          "output_type": "execute_result",
          "data": {
            "text/html": [
              "<div>\n",
              "<style scoped>\n",
              "    .dataframe tbody tr th:only-of-type {\n",
              "        vertical-align: middle;\n",
              "    }\n",
              "\n",
              "    .dataframe tbody tr th {\n",
              "        vertical-align: top;\n",
              "    }\n",
              "\n",
              "    .dataframe thead th {\n",
              "        text-align: right;\n",
              "    }\n",
              "</style>\n",
              "<table border=\"1\" class=\"dataframe\">\n",
              "  <thead>\n",
              "    <tr style=\"text-align: right;\">\n",
              "      <th></th>\n",
              "      <th>Name</th>\n",
              "      <th>Age</th>\n",
              "      <th>University</th>\n",
              "    </tr>\n",
              "  </thead>\n",
              "  <tbody>\n",
              "    <tr>\n",
              "      <th>a</th>\n",
              "      <td>Ankita</td>\n",
              "      <td>23.0</td>\n",
              "      <td>BHU</td>\n",
              "    </tr>\n",
              "    <tr>\n",
              "      <th>b</th>\n",
              "      <td>Aishwarya</td>\n",
              "      <td>NaN</td>\n",
              "      <td>JNU</td>\n",
              "    </tr>\n",
              "    <tr>\n",
              "      <th>c</th>\n",
              "      <td>ekansh</td>\n",
              "      <td>30.0</td>\n",
              "      <td>DU</td>\n",
              "    </tr>\n",
              "    <tr>\n",
              "      <th>d</th>\n",
              "      <td>saumya</td>\n",
              "      <td>24.0</td>\n",
              "      <td>BHU</td>\n",
              "    </tr>\n",
              "  </tbody>\n",
              "</table>\n",
              "</div>"
            ],
            "text/plain": [
              "        Name   Age University\n",
              "a     Ankita  23.0        BHU\n",
              "b  Aishwarya   NaN        JNU\n",
              "c     ekansh  30.0         DU\n",
              "d     saumya  24.0        BHU"
            ]
          },
          "metadata": {
            "tags": []
          },
          "execution_count": 163
        }
      ]
    },
    {
      "cell_type": "code",
      "metadata": {
        "colab": {
          "base_uri": "https://localhost:8080/"
        },
        "id": "ogpSpBTdzKhd",
        "outputId": "5f2759e2-cb61-4348-ab0c-bfb4eeb6e74d"
      },
      "source": [
        "#datatypes of each array\r\n",
        "print(df.dtypes)\r\n",
        "print(\"\\n\",df.head())"
      ],
      "execution_count": 105,
      "outputs": [
        {
          "output_type": "stream",
          "text": [
            "Name           object\n",
            "Age           float64\n",
            "University     object\n",
            "dtype: object\n",
            "\n",
            "         Name   Age University\n",
            "a     Ankita  23.0        BHU\n",
            "b  Aishwarya   NaN        JNU\n",
            "c     ekansh  30.0         DU\n",
            "d     saumya  24.0        BHU\n"
          ],
          "name": "stdout"
        }
      ]
    },
    {
      "cell_type": "code",
      "metadata": {
        "colab": {
          "base_uri": "https://localhost:8080/",
          "height": 107
        },
        "id": "7_nykF9pzp0-",
        "outputId": "6254f46c-4b6c-4dc4-cf86-ee8235a76b4e"
      },
      "source": [
        "df.tail(2)"
      ],
      "execution_count": 106,
      "outputs": [
        {
          "output_type": "execute_result",
          "data": {
            "text/html": [
              "<div>\n",
              "<style scoped>\n",
              "    .dataframe tbody tr th:only-of-type {\n",
              "        vertical-align: middle;\n",
              "    }\n",
              "\n",
              "    .dataframe tbody tr th {\n",
              "        vertical-align: top;\n",
              "    }\n",
              "\n",
              "    .dataframe thead th {\n",
              "        text-align: right;\n",
              "    }\n",
              "</style>\n",
              "<table border=\"1\" class=\"dataframe\">\n",
              "  <thead>\n",
              "    <tr style=\"text-align: right;\">\n",
              "      <th></th>\n",
              "      <th>Name</th>\n",
              "      <th>Age</th>\n",
              "      <th>University</th>\n",
              "    </tr>\n",
              "  </thead>\n",
              "  <tbody>\n",
              "    <tr>\n",
              "      <th>c</th>\n",
              "      <td>ekansh</td>\n",
              "      <td>30.0</td>\n",
              "      <td>DU</td>\n",
              "    </tr>\n",
              "    <tr>\n",
              "      <th>d</th>\n",
              "      <td>saumya</td>\n",
              "      <td>24.0</td>\n",
              "      <td>BHU</td>\n",
              "    </tr>\n",
              "  </tbody>\n",
              "</table>\n",
              "</div>"
            ],
            "text/plain": [
              "     Name   Age University\n",
              "c  ekansh  30.0         DU\n",
              "d  saumya  24.0        BHU"
            ]
          },
          "metadata": {
            "tags": []
          },
          "execution_count": 106
        }
      ]
    },
    {
      "cell_type": "code",
      "metadata": {
        "colab": {
          "base_uri": "https://localhost:8080/"
        },
        "id": "IfmxLzxT0BQ2",
        "outputId": "90a35560-8f13-4c4f-dceb-9e236091ed32"
      },
      "source": [
        "print(df.columns, '\\n')\r\n",
        "df.values"
      ],
      "execution_count": 107,
      "outputs": [
        {
          "output_type": "stream",
          "text": [
            "Index(['Name', 'Age', 'University'], dtype='object') \n",
            "\n"
          ],
          "name": "stdout"
        },
        {
          "output_type": "execute_result",
          "data": {
            "text/plain": [
              "array([['Ankita', 23.0, 'BHU'],\n",
              "       ['Aishwarya', nan, 'JNU'],\n",
              "       ['ekansh', 30.0, 'DU'],\n",
              "       ['saumya', 24.0, 'BHU']], dtype=object)"
            ]
          },
          "metadata": {
            "tags": []
          },
          "execution_count": 107
        }
      ]
    },
    {
      "cell_type": "code",
      "metadata": {
        "colab": {
          "base_uri": "https://localhost:8080/",
          "height": 287
        },
        "id": "lJMuT0mG1Dom",
        "outputId": "c540bc94-6d0c-4e70-9629-8c09a4c37c16"
      },
      "source": [
        "df.describe()"
      ],
      "execution_count": 109,
      "outputs": [
        {
          "output_type": "execute_result",
          "data": {
            "text/html": [
              "<div>\n",
              "<style scoped>\n",
              "    .dataframe tbody tr th:only-of-type {\n",
              "        vertical-align: middle;\n",
              "    }\n",
              "\n",
              "    .dataframe tbody tr th {\n",
              "        vertical-align: top;\n",
              "    }\n",
              "\n",
              "    .dataframe thead th {\n",
              "        text-align: right;\n",
              "    }\n",
              "</style>\n",
              "<table border=\"1\" class=\"dataframe\">\n",
              "  <thead>\n",
              "    <tr style=\"text-align: right;\">\n",
              "      <th></th>\n",
              "      <th>Age</th>\n",
              "    </tr>\n",
              "  </thead>\n",
              "  <tbody>\n",
              "    <tr>\n",
              "      <th>count</th>\n",
              "      <td>3.000000</td>\n",
              "    </tr>\n",
              "    <tr>\n",
              "      <th>mean</th>\n",
              "      <td>25.666667</td>\n",
              "    </tr>\n",
              "    <tr>\n",
              "      <th>std</th>\n",
              "      <td>3.785939</td>\n",
              "    </tr>\n",
              "    <tr>\n",
              "      <th>min</th>\n",
              "      <td>23.000000</td>\n",
              "    </tr>\n",
              "    <tr>\n",
              "      <th>25%</th>\n",
              "      <td>23.500000</td>\n",
              "    </tr>\n",
              "    <tr>\n",
              "      <th>50%</th>\n",
              "      <td>24.000000</td>\n",
              "    </tr>\n",
              "    <tr>\n",
              "      <th>75%</th>\n",
              "      <td>27.000000</td>\n",
              "    </tr>\n",
              "    <tr>\n",
              "      <th>max</th>\n",
              "      <td>30.000000</td>\n",
              "    </tr>\n",
              "  </tbody>\n",
              "</table>\n",
              "</div>"
            ],
            "text/plain": [
              "             Age\n",
              "count   3.000000\n",
              "mean   25.666667\n",
              "std     3.785939\n",
              "min    23.000000\n",
              "25%    23.500000\n",
              "50%    24.000000\n",
              "75%    27.000000\n",
              "max    30.000000"
            ]
          },
          "metadata": {
            "tags": []
          },
          "execution_count": 109
        }
      ]
    },
    {
      "cell_type": "code",
      "metadata": {
        "colab": {
          "base_uri": "https://localhost:8080/",
          "height": 137
        },
        "id": "atLRhN1B1l72",
        "outputId": "1e4268b5-dd79-4ac9-aff6-6856923dbfd6"
      },
      "source": [
        "df.T"
      ],
      "execution_count": 110,
      "outputs": [
        {
          "output_type": "execute_result",
          "data": {
            "text/html": [
              "<div>\n",
              "<style scoped>\n",
              "    .dataframe tbody tr th:only-of-type {\n",
              "        vertical-align: middle;\n",
              "    }\n",
              "\n",
              "    .dataframe tbody tr th {\n",
              "        vertical-align: top;\n",
              "    }\n",
              "\n",
              "    .dataframe thead th {\n",
              "        text-align: right;\n",
              "    }\n",
              "</style>\n",
              "<table border=\"1\" class=\"dataframe\">\n",
              "  <thead>\n",
              "    <tr style=\"text-align: right;\">\n",
              "      <th></th>\n",
              "      <th>a</th>\n",
              "      <th>b</th>\n",
              "      <th>c</th>\n",
              "      <th>d</th>\n",
              "    </tr>\n",
              "  </thead>\n",
              "  <tbody>\n",
              "    <tr>\n",
              "      <th>Name</th>\n",
              "      <td>Ankita</td>\n",
              "      <td>Aishwarya</td>\n",
              "      <td>ekansh</td>\n",
              "      <td>saumya</td>\n",
              "    </tr>\n",
              "    <tr>\n",
              "      <th>Age</th>\n",
              "      <td>23</td>\n",
              "      <td>NaN</td>\n",
              "      <td>30</td>\n",
              "      <td>24</td>\n",
              "    </tr>\n",
              "    <tr>\n",
              "      <th>University</th>\n",
              "      <td>BHU</td>\n",
              "      <td>JNU</td>\n",
              "      <td>DU</td>\n",
              "      <td>BHU</td>\n",
              "    </tr>\n",
              "  </tbody>\n",
              "</table>\n",
              "</div>"
            ],
            "text/plain": [
              "                 a          b       c       d\n",
              "Name        Ankita  Aishwarya  ekansh  saumya\n",
              "Age             23        NaN      30      24\n",
              "University     BHU        JNU      DU     BHU"
            ]
          },
          "metadata": {
            "tags": []
          },
          "execution_count": 110
        }
      ]
    },
    {
      "cell_type": "code",
      "metadata": {
        "colab": {
          "base_uri": "https://localhost:8080/",
          "height": 167
        },
        "id": "NkN9r8bL2Oye",
        "outputId": "118966a8-00c1-42f6-bb97-e6cc2c8b8ef4"
      },
      "source": [
        "df.sort_values(by='Age')"
      ],
      "execution_count": 111,
      "outputs": [
        {
          "output_type": "execute_result",
          "data": {
            "text/html": [
              "<div>\n",
              "<style scoped>\n",
              "    .dataframe tbody tr th:only-of-type {\n",
              "        vertical-align: middle;\n",
              "    }\n",
              "\n",
              "    .dataframe tbody tr th {\n",
              "        vertical-align: top;\n",
              "    }\n",
              "\n",
              "    .dataframe thead th {\n",
              "        text-align: right;\n",
              "    }\n",
              "</style>\n",
              "<table border=\"1\" class=\"dataframe\">\n",
              "  <thead>\n",
              "    <tr style=\"text-align: right;\">\n",
              "      <th></th>\n",
              "      <th>Name</th>\n",
              "      <th>Age</th>\n",
              "      <th>University</th>\n",
              "    </tr>\n",
              "  </thead>\n",
              "  <tbody>\n",
              "    <tr>\n",
              "      <th>a</th>\n",
              "      <td>Ankita</td>\n",
              "      <td>23.0</td>\n",
              "      <td>BHU</td>\n",
              "    </tr>\n",
              "    <tr>\n",
              "      <th>d</th>\n",
              "      <td>saumya</td>\n",
              "      <td>24.0</td>\n",
              "      <td>BHU</td>\n",
              "    </tr>\n",
              "    <tr>\n",
              "      <th>c</th>\n",
              "      <td>ekansh</td>\n",
              "      <td>30.0</td>\n",
              "      <td>DU</td>\n",
              "    </tr>\n",
              "    <tr>\n",
              "      <th>b</th>\n",
              "      <td>Aishwarya</td>\n",
              "      <td>NaN</td>\n",
              "      <td>JNU</td>\n",
              "    </tr>\n",
              "  </tbody>\n",
              "</table>\n",
              "</div>"
            ],
            "text/plain": [
              "        Name   Age University\n",
              "a     Ankita  23.0        BHU\n",
              "d     saumya  24.0        BHU\n",
              "c     ekansh  30.0         DU\n",
              "b  Aishwarya   NaN        JNU"
            ]
          },
          "metadata": {
            "tags": []
          },
          "execution_count": 111
        }
      ]
    },
    {
      "cell_type": "code",
      "metadata": {
        "colab": {
          "base_uri": "https://localhost:8080/",
          "height": 184
        },
        "id": "7Y_bzBhF2Wo2",
        "outputId": "1c44b353-58e2-42b3-82fc-c8113d5fdd1d"
      },
      "source": [
        "#slice dataframe\r\n",
        "print(df,\"\\n\")\r\n",
        "df[1:2]"
      ],
      "execution_count": 112,
      "outputs": [
        {
          "output_type": "stream",
          "text": [
            "        Name   Age University\n",
            "a     Ankita  23.0        BHU\n",
            "b  Aishwarya   NaN        JNU\n",
            "c     ekansh  30.0         DU\n",
            "d     saumya  24.0        BHU \n",
            "\n"
          ],
          "name": "stdout"
        },
        {
          "output_type": "execute_result",
          "data": {
            "text/html": [
              "<div>\n",
              "<style scoped>\n",
              "    .dataframe tbody tr th:only-of-type {\n",
              "        vertical-align: middle;\n",
              "    }\n",
              "\n",
              "    .dataframe tbody tr th {\n",
              "        vertical-align: top;\n",
              "    }\n",
              "\n",
              "    .dataframe thead th {\n",
              "        text-align: right;\n",
              "    }\n",
              "</style>\n",
              "<table border=\"1\" class=\"dataframe\">\n",
              "  <thead>\n",
              "    <tr style=\"text-align: right;\">\n",
              "      <th></th>\n",
              "      <th>Name</th>\n",
              "      <th>Age</th>\n",
              "      <th>University</th>\n",
              "    </tr>\n",
              "  </thead>\n",
              "  <tbody>\n",
              "    <tr>\n",
              "      <th>b</th>\n",
              "      <td>Aishwarya</td>\n",
              "      <td>NaN</td>\n",
              "      <td>JNU</td>\n",
              "    </tr>\n",
              "  </tbody>\n",
              "</table>\n",
              "</div>"
            ],
            "text/plain": [
              "        Name  Age University\n",
              "b  Aishwarya  NaN        JNU"
            ]
          },
          "metadata": {
            "tags": []
          },
          "execution_count": 112
        }
      ]
    },
    {
      "cell_type": "code",
      "metadata": {
        "colab": {
          "base_uri": "https://localhost:8080/",
          "height": 167
        },
        "id": "P9Imi7IP23ft",
        "outputId": "495145a1-7d56-4d31-c3ea-72d074990914"
      },
      "source": [
        "df[['Age','Name']]"
      ],
      "execution_count": 113,
      "outputs": [
        {
          "output_type": "execute_result",
          "data": {
            "text/html": [
              "<div>\n",
              "<style scoped>\n",
              "    .dataframe tbody tr th:only-of-type {\n",
              "        vertical-align: middle;\n",
              "    }\n",
              "\n",
              "    .dataframe tbody tr th {\n",
              "        vertical-align: top;\n",
              "    }\n",
              "\n",
              "    .dataframe thead th {\n",
              "        text-align: right;\n",
              "    }\n",
              "</style>\n",
              "<table border=\"1\" class=\"dataframe\">\n",
              "  <thead>\n",
              "    <tr style=\"text-align: right;\">\n",
              "      <th></th>\n",
              "      <th>Age</th>\n",
              "      <th>Name</th>\n",
              "    </tr>\n",
              "  </thead>\n",
              "  <tbody>\n",
              "    <tr>\n",
              "      <th>a</th>\n",
              "      <td>23.0</td>\n",
              "      <td>Ankita</td>\n",
              "    </tr>\n",
              "    <tr>\n",
              "      <th>b</th>\n",
              "      <td>NaN</td>\n",
              "      <td>Aishwarya</td>\n",
              "    </tr>\n",
              "    <tr>\n",
              "      <th>c</th>\n",
              "      <td>30.0</td>\n",
              "      <td>ekansh</td>\n",
              "    </tr>\n",
              "    <tr>\n",
              "      <th>d</th>\n",
              "      <td>24.0</td>\n",
              "      <td>saumya</td>\n",
              "    </tr>\n",
              "  </tbody>\n",
              "</table>\n",
              "</div>"
            ],
            "text/plain": [
              "    Age       Name\n",
              "a  23.0     Ankita\n",
              "b   NaN  Aishwarya\n",
              "c  30.0     ekansh\n",
              "d  24.0     saumya"
            ]
          },
          "metadata": {
            "tags": []
          },
          "execution_count": 113
        }
      ]
    },
    {
      "cell_type": "code",
      "metadata": {
        "colab": {
          "base_uri": "https://localhost:8080/",
          "height": 77
        },
        "id": "0jvRcT_R3cuX",
        "outputId": "fc977d2f-a84a-4058-c7de-1c6d127c49a3"
      },
      "source": [
        "#slicing by integer location\r\n",
        "df.iloc[1:2]"
      ],
      "execution_count": 114,
      "outputs": [
        {
          "output_type": "execute_result",
          "data": {
            "text/html": [
              "<div>\n",
              "<style scoped>\n",
              "    .dataframe tbody tr th:only-of-type {\n",
              "        vertical-align: middle;\n",
              "    }\n",
              "\n",
              "    .dataframe tbody tr th {\n",
              "        vertical-align: top;\n",
              "    }\n",
              "\n",
              "    .dataframe thead th {\n",
              "        text-align: right;\n",
              "    }\n",
              "</style>\n",
              "<table border=\"1\" class=\"dataframe\">\n",
              "  <thead>\n",
              "    <tr style=\"text-align: right;\">\n",
              "      <th></th>\n",
              "      <th>Name</th>\n",
              "      <th>Age</th>\n",
              "      <th>University</th>\n",
              "    </tr>\n",
              "  </thead>\n",
              "  <tbody>\n",
              "    <tr>\n",
              "      <th>b</th>\n",
              "      <td>Aishwarya</td>\n",
              "      <td>NaN</td>\n",
              "      <td>JNU</td>\n",
              "    </tr>\n",
              "  </tbody>\n",
              "</table>\n",
              "</div>"
            ],
            "text/plain": [
              "        Name  Age University\n",
              "b  Aishwarya  NaN        JNU"
            ]
          },
          "metadata": {
            "tags": []
          },
          "execution_count": 114
        }
      ]
    },
    {
      "cell_type": "code",
      "metadata": {
        "colab": {
          "base_uri": "https://localhost:8080/",
          "height": 167
        },
        "id": "CHgqzQKL3rD1",
        "outputId": "3473699d-3c90-451a-ebea-e6aecc933d56"
      },
      "source": [
        "#if looking for null values\r\n",
        "df.isnull()"
      ],
      "execution_count": 115,
      "outputs": [
        {
          "output_type": "execute_result",
          "data": {
            "text/html": [
              "<div>\n",
              "<style scoped>\n",
              "    .dataframe tbody tr th:only-of-type {\n",
              "        vertical-align: middle;\n",
              "    }\n",
              "\n",
              "    .dataframe tbody tr th {\n",
              "        vertical-align: top;\n",
              "    }\n",
              "\n",
              "    .dataframe thead th {\n",
              "        text-align: right;\n",
              "    }\n",
              "</style>\n",
              "<table border=\"1\" class=\"dataframe\">\n",
              "  <thead>\n",
              "    <tr style=\"text-align: right;\">\n",
              "      <th></th>\n",
              "      <th>Name</th>\n",
              "      <th>Age</th>\n",
              "      <th>University</th>\n",
              "    </tr>\n",
              "  </thead>\n",
              "  <tbody>\n",
              "    <tr>\n",
              "      <th>a</th>\n",
              "      <td>False</td>\n",
              "      <td>False</td>\n",
              "      <td>False</td>\n",
              "    </tr>\n",
              "    <tr>\n",
              "      <th>b</th>\n",
              "      <td>False</td>\n",
              "      <td>True</td>\n",
              "      <td>False</td>\n",
              "    </tr>\n",
              "    <tr>\n",
              "      <th>c</th>\n",
              "      <td>False</td>\n",
              "      <td>False</td>\n",
              "      <td>False</td>\n",
              "    </tr>\n",
              "    <tr>\n",
              "      <th>d</th>\n",
              "      <td>False</td>\n",
              "      <td>False</td>\n",
              "      <td>False</td>\n",
              "    </tr>\n",
              "  </tbody>\n",
              "</table>\n",
              "</div>"
            ],
            "text/plain": [
              "    Name    Age  University\n",
              "a  False  False       False\n",
              "b  False   True       False\n",
              "c  False  False       False\n",
              "d  False  False       False"
            ]
          },
          "metadata": {
            "tags": []
          },
          "execution_count": 115
        }
      ]
    },
    {
      "cell_type": "code",
      "metadata": {
        "colab": {
          "base_uri": "https://localhost:8080/"
        },
        "id": "2KtaNbjxCOff",
        "outputId": "20d36cf7-ab84-4a53-ff59-df254ce59acd"
      },
      "source": [
        "#select the rows where the age is missing\r\n",
        "print(df[df['Age'].isnull()])"
      ],
      "execution_count": 142,
      "outputs": [
        {
          "output_type": "stream",
          "text": [
            "Empty DataFrame\n",
            "Columns: [Name, Age, University]\n",
            "Index: []\n"
          ],
          "name": "stdout"
        }
      ]
    },
    {
      "cell_type": "code",
      "metadata": {
        "colab": {
          "base_uri": "https://localhost:8080/",
          "height": 167
        },
        "id": "ZkcFO5B24zUD",
        "outputId": "079bb54b-ce8b-447d-ca92-c73de35473ed"
      },
      "source": [
        "df"
      ],
      "execution_count": 116,
      "outputs": [
        {
          "output_type": "execute_result",
          "data": {
            "text/html": [
              "<div>\n",
              "<style scoped>\n",
              "    .dataframe tbody tr th:only-of-type {\n",
              "        vertical-align: middle;\n",
              "    }\n",
              "\n",
              "    .dataframe tbody tr th {\n",
              "        vertical-align: top;\n",
              "    }\n",
              "\n",
              "    .dataframe thead th {\n",
              "        text-align: right;\n",
              "    }\n",
              "</style>\n",
              "<table border=\"1\" class=\"dataframe\">\n",
              "  <thead>\n",
              "    <tr style=\"text-align: right;\">\n",
              "      <th></th>\n",
              "      <th>Name</th>\n",
              "      <th>Age</th>\n",
              "      <th>University</th>\n",
              "    </tr>\n",
              "  </thead>\n",
              "  <tbody>\n",
              "    <tr>\n",
              "      <th>a</th>\n",
              "      <td>Ankita</td>\n",
              "      <td>23.0</td>\n",
              "      <td>BHU</td>\n",
              "    </tr>\n",
              "    <tr>\n",
              "      <th>b</th>\n",
              "      <td>Aishwarya</td>\n",
              "      <td>NaN</td>\n",
              "      <td>JNU</td>\n",
              "    </tr>\n",
              "    <tr>\n",
              "      <th>c</th>\n",
              "      <td>ekansh</td>\n",
              "      <td>30.0</td>\n",
              "      <td>DU</td>\n",
              "    </tr>\n",
              "    <tr>\n",
              "      <th>d</th>\n",
              "      <td>saumya</td>\n",
              "      <td>24.0</td>\n",
              "      <td>BHU</td>\n",
              "    </tr>\n",
              "  </tbody>\n",
              "</table>\n",
              "</div>"
            ],
            "text/plain": [
              "        Name   Age University\n",
              "a     Ankita  23.0        BHU\n",
              "b  Aishwarya   NaN        JNU\n",
              "c     ekansh  30.0         DU\n",
              "d     saumya  24.0        BHU"
            ]
          },
          "metadata": {
            "tags": []
          },
          "execution_count": 116
        }
      ]
    },
    {
      "cell_type": "code",
      "metadata": {
        "colab": {
          "base_uri": "https://localhost:8080/",
          "height": 167
        },
        "id": "bMEsYIk_36tv",
        "outputId": "a166a651-5edc-47e1-9978-9c0f69b9035f"
      },
      "source": [
        "#changing the value of location(loc)\r\n",
        "df.loc['c','Age']=28 #This changes the actual dataframe\r\n",
        "df"
      ],
      "execution_count": 118,
      "outputs": [
        {
          "output_type": "execute_result",
          "data": {
            "text/html": [
              "<div>\n",
              "<style scoped>\n",
              "    .dataframe tbody tr th:only-of-type {\n",
              "        vertical-align: middle;\n",
              "    }\n",
              "\n",
              "    .dataframe tbody tr th {\n",
              "        vertical-align: top;\n",
              "    }\n",
              "\n",
              "    .dataframe thead th {\n",
              "        text-align: right;\n",
              "    }\n",
              "</style>\n",
              "<table border=\"1\" class=\"dataframe\">\n",
              "  <thead>\n",
              "    <tr style=\"text-align: right;\">\n",
              "      <th></th>\n",
              "      <th>Name</th>\n",
              "      <th>Age</th>\n",
              "      <th>University</th>\n",
              "    </tr>\n",
              "  </thead>\n",
              "  <tbody>\n",
              "    <tr>\n",
              "      <th>a</th>\n",
              "      <td>Ankita</td>\n",
              "      <td>23.0</td>\n",
              "      <td>BHU</td>\n",
              "    </tr>\n",
              "    <tr>\n",
              "      <th>b</th>\n",
              "      <td>Aishwarya</td>\n",
              "      <td>NaN</td>\n",
              "      <td>JNU</td>\n",
              "    </tr>\n",
              "    <tr>\n",
              "      <th>c</th>\n",
              "      <td>ekansh</td>\n",
              "      <td>28.0</td>\n",
              "      <td>DU</td>\n",
              "    </tr>\n",
              "    <tr>\n",
              "      <th>d</th>\n",
              "      <td>saumya</td>\n",
              "      <td>24.0</td>\n",
              "      <td>BHU</td>\n",
              "    </tr>\n",
              "  </tbody>\n",
              "</table>\n",
              "</div>"
            ],
            "text/plain": [
              "        Name   Age University\n",
              "a     Ankita  23.0        BHU\n",
              "b  Aishwarya   NaN        JNU\n",
              "c     ekansh  28.0         DU\n",
              "d     saumya  24.0        BHU"
            ]
          },
          "metadata": {
            "tags": []
          },
          "execution_count": 118
        }
      ]
    },
    {
      "cell_type": "code",
      "metadata": {
        "colab": {
          "base_uri": "https://localhost:8080/",
          "height": 167
        },
        "id": "5oE-9kd-8zcX",
        "outputId": "5df59eca-ad59-4f6f-ddd7-169d2b41bb49"
      },
      "source": [
        "df.loc['b','Age']=40 #This changes the actual dataframe\r\n",
        "df"
      ],
      "execution_count": 129,
      "outputs": [
        {
          "output_type": "execute_result",
          "data": {
            "text/html": [
              "<div>\n",
              "<style scoped>\n",
              "    .dataframe tbody tr th:only-of-type {\n",
              "        vertical-align: middle;\n",
              "    }\n",
              "\n",
              "    .dataframe tbody tr th {\n",
              "        vertical-align: top;\n",
              "    }\n",
              "\n",
              "    .dataframe thead th {\n",
              "        text-align: right;\n",
              "    }\n",
              "</style>\n",
              "<table border=\"1\" class=\"dataframe\">\n",
              "  <thead>\n",
              "    <tr style=\"text-align: right;\">\n",
              "      <th></th>\n",
              "      <th>Name</th>\n",
              "      <th>Age</th>\n",
              "      <th>University</th>\n",
              "    </tr>\n",
              "  </thead>\n",
              "  <tbody>\n",
              "    <tr>\n",
              "      <th>a</th>\n",
              "      <td>Ankita</td>\n",
              "      <td>23.0</td>\n",
              "      <td>BHU</td>\n",
              "    </tr>\n",
              "    <tr>\n",
              "      <th>b</th>\n",
              "      <td>Aishwarya</td>\n",
              "      <td>40.0</td>\n",
              "      <td>JNU</td>\n",
              "    </tr>\n",
              "    <tr>\n",
              "      <th>c</th>\n",
              "      <td>ekansh</td>\n",
              "      <td>28.0</td>\n",
              "      <td>DU</td>\n",
              "    </tr>\n",
              "    <tr>\n",
              "      <th>d</th>\n",
              "      <td>saumya</td>\n",
              "      <td>24.0</td>\n",
              "      <td>BHU</td>\n",
              "    </tr>\n",
              "  </tbody>\n",
              "</table>\n",
              "</div>"
            ],
            "text/plain": [
              "        Name   Age University\n",
              "a     Ankita  23.0        BHU\n",
              "b  Aishwarya  40.0        JNU\n",
              "c     ekansh  28.0         DU\n",
              "d     saumya  24.0        BHU"
            ]
          },
          "metadata": {
            "tags": []
          },
          "execution_count": 129
        }
      ]
    },
    {
      "cell_type": "code",
      "metadata": {
        "colab": {
          "base_uri": "https://localhost:8080/"
        },
        "id": "wfF7tIOb50on",
        "outputId": "c6427313-b87f-40f0-ebdf-f845e821eca3"
      },
      "source": [
        "df.mean() #numerical value\r\n",
        "df.sum() "
      ],
      "execution_count": 130,
      "outputs": [
        {
          "output_type": "execute_result",
          "data": {
            "text/plain": [
              "Name          AnkitaAishwaryaekanshsaumya\n",
              "Age                                   115\n",
              "University                    BHUJNUDUBHU\n",
              "dtype: object"
            ]
          },
          "metadata": {
            "tags": []
          },
          "execution_count": 130
        }
      ]
    },
    {
      "cell_type": "code",
      "metadata": {
        "colab": {
          "base_uri": "https://localhost:8080/",
          "height": 167
        },
        "id": "hr-ltUji6pbO",
        "outputId": "03d33631-1a1c-4105-bc7c-c8dd30d4c7db"
      },
      "source": [
        "df"
      ],
      "execution_count": 131,
      "outputs": [
        {
          "output_type": "execute_result",
          "data": {
            "text/html": [
              "<div>\n",
              "<style scoped>\n",
              "    .dataframe tbody tr th:only-of-type {\n",
              "        vertical-align: middle;\n",
              "    }\n",
              "\n",
              "    .dataframe tbody tr th {\n",
              "        vertical-align: top;\n",
              "    }\n",
              "\n",
              "    .dataframe thead th {\n",
              "        text-align: right;\n",
              "    }\n",
              "</style>\n",
              "<table border=\"1\" class=\"dataframe\">\n",
              "  <thead>\n",
              "    <tr style=\"text-align: right;\">\n",
              "      <th></th>\n",
              "      <th>Name</th>\n",
              "      <th>Age</th>\n",
              "      <th>University</th>\n",
              "    </tr>\n",
              "  </thead>\n",
              "  <tbody>\n",
              "    <tr>\n",
              "      <th>a</th>\n",
              "      <td>Ankita</td>\n",
              "      <td>23.0</td>\n",
              "      <td>BHU</td>\n",
              "    </tr>\n",
              "    <tr>\n",
              "      <th>b</th>\n",
              "      <td>Aishwarya</td>\n",
              "      <td>40.0</td>\n",
              "      <td>JNU</td>\n",
              "    </tr>\n",
              "    <tr>\n",
              "      <th>c</th>\n",
              "      <td>ekansh</td>\n",
              "      <td>28.0</td>\n",
              "      <td>DU</td>\n",
              "    </tr>\n",
              "    <tr>\n",
              "      <th>d</th>\n",
              "      <td>saumya</td>\n",
              "      <td>24.0</td>\n",
              "      <td>BHU</td>\n",
              "    </tr>\n",
              "  </tbody>\n",
              "</table>\n",
              "</div>"
            ],
            "text/plain": [
              "        Name   Age University\n",
              "a     Ankita  23.0        BHU\n",
              "b  Aishwarya  40.0        JNU\n",
              "c     ekansh  28.0         DU\n",
              "d     saumya  24.0        BHU"
            ]
          },
          "metadata": {
            "tags": []
          },
          "execution_count": 131
        }
      ]
    },
    {
      "cell_type": "code",
      "metadata": {
        "colab": {
          "base_uri": "https://localhost:8080/",
          "height": 107
        },
        "id": "aalx0sqA50ur",
        "outputId": "132b16cf-e2b4-479c-fb58-83dab7dfb5fa"
      },
      "source": [
        "#need a dataframe where age < 28\r\n",
        "df[df['Age']<28]"
      ],
      "execution_count": 133,
      "outputs": [
        {
          "output_type": "execute_result",
          "data": {
            "text/html": [
              "<div>\n",
              "<style scoped>\n",
              "    .dataframe tbody tr th:only-of-type {\n",
              "        vertical-align: middle;\n",
              "    }\n",
              "\n",
              "    .dataframe tbody tr th {\n",
              "        vertical-align: top;\n",
              "    }\n",
              "\n",
              "    .dataframe thead th {\n",
              "        text-align: right;\n",
              "    }\n",
              "</style>\n",
              "<table border=\"1\" class=\"dataframe\">\n",
              "  <thead>\n",
              "    <tr style=\"text-align: right;\">\n",
              "      <th></th>\n",
              "      <th>Name</th>\n",
              "      <th>Age</th>\n",
              "      <th>University</th>\n",
              "    </tr>\n",
              "  </thead>\n",
              "  <tbody>\n",
              "    <tr>\n",
              "      <th>a</th>\n",
              "      <td>Ankita</td>\n",
              "      <td>23.0</td>\n",
              "      <td>BHU</td>\n",
              "    </tr>\n",
              "    <tr>\n",
              "      <th>d</th>\n",
              "      <td>saumya</td>\n",
              "      <td>24.0</td>\n",
              "      <td>BHU</td>\n",
              "    </tr>\n",
              "  </tbody>\n",
              "</table>\n",
              "</div>"
            ],
            "text/plain": [
              "     Name   Age University\n",
              "a  Ankita  23.0        BHU\n",
              "d  saumya  24.0        BHU"
            ]
          },
          "metadata": {
            "tags": []
          },
          "execution_count": 133
        }
      ]
    },
    {
      "cell_type": "markdown",
      "metadata": {
        "id": "pP--Bjeu9xA6"
      },
      "source": [
        "len() and shape function"
      ]
    },
    {
      "cell_type": "code",
      "metadata": {
        "colab": {
          "base_uri": "https://localhost:8080/"
        },
        "id": "La0OZsgi50x-",
        "outputId": "0fd4f992-ceba-42e5-983c-c2b0077b1e75"
      },
      "source": [
        "\r\n",
        "total_rows=len(df.axes[0])\r\n",
        "print(total_rows)\r\n",
        "total_cols=len(df.axes[1])\r\n",
        "print(total_cols)\r\n",
        "df.shape"
      ],
      "execution_count": 137,
      "outputs": [
        {
          "output_type": "stream",
          "text": [
            "4\n",
            "3\n"
          ],
          "name": "stdout"
        },
        {
          "output_type": "execute_result",
          "data": {
            "text/plain": [
              "(4, 3)"
            ]
          },
          "metadata": {
            "tags": []
          },
          "execution_count": 137
        }
      ]
    },
    {
      "cell_type": "code",
      "metadata": {
        "colab": {
          "base_uri": "https://localhost:8080/"
        },
        "id": "PBhbdZh_501V",
        "outputId": "60e9ff29-b20a-49c0-c7c4-7d1f58131c06"
      },
      "source": [
        "#select rows where university is BHU\r\n",
        "print(df.loc[df['University'] == 'BHU'])"
      ],
      "execution_count": 139,
      "outputs": [
        {
          "output_type": "stream",
          "text": [
            "     Name   Age University\n",
            "a  Ankita  23.0        BHU\n",
            "d  saumya  24.0        BHU\n"
          ],
          "name": "stdout"
        }
      ]
    },
    {
      "cell_type": "code",
      "metadata": {
        "colab": {
          "base_uri": "https://localhost:8080/"
        },
        "id": "YdtyAfOU504S",
        "outputId": "b516b2cd-12bd-4a34-ab90-e2dc399cafee"
      },
      "source": [
        "#iterate over rows\r\n",
        "for index, row in df.iterrows():\r\n",
        "  print(row['Name'], row['University'])"
      ],
      "execution_count": 141,
      "outputs": [
        {
          "output_type": "stream",
          "text": [
            "Ankita BHU\n",
            "Aishwarya JNU\n",
            "ekansh DU\n",
            "saumya BHU\n"
          ],
          "name": "stdout"
        }
      ]
    },
    {
      "cell_type": "code",
      "metadata": {
        "colab": {
          "base_uri": "https://localhost:8080/",
          "height": 197
        },
        "id": "aek_8AeS507H",
        "outputId": "8488388e-389a-4ae0-8eb2-be78a6bd5ec5"
      },
      "source": [
        "#append a new row\r\n",
        "df.loc['e'] = ['devansh', '14', 'Assisi']\r\n",
        "df\r\n",
        "\r\n"
      ],
      "execution_count": 157,
      "outputs": [
        {
          "output_type": "execute_result",
          "data": {
            "text/html": [
              "<div>\n",
              "<style scoped>\n",
              "    .dataframe tbody tr th:only-of-type {\n",
              "        vertical-align: middle;\n",
              "    }\n",
              "\n",
              "    .dataframe tbody tr th {\n",
              "        vertical-align: top;\n",
              "    }\n",
              "\n",
              "    .dataframe thead th {\n",
              "        text-align: right;\n",
              "    }\n",
              "</style>\n",
              "<table border=\"1\" class=\"dataframe\">\n",
              "  <thead>\n",
              "    <tr style=\"text-align: right;\">\n",
              "      <th></th>\n",
              "      <th>Name</th>\n",
              "      <th>Age</th>\n",
              "      <th>University</th>\n",
              "    </tr>\n",
              "  </thead>\n",
              "  <tbody>\n",
              "    <tr>\n",
              "      <th>a</th>\n",
              "      <td>Ankita</td>\n",
              "      <td>23</td>\n",
              "      <td>BHU</td>\n",
              "    </tr>\n",
              "    <tr>\n",
              "      <th>b</th>\n",
              "      <td>Aishwarya</td>\n",
              "      <td>NaN</td>\n",
              "      <td>JNU</td>\n",
              "    </tr>\n",
              "    <tr>\n",
              "      <th>c</th>\n",
              "      <td>ekansh</td>\n",
              "      <td>30</td>\n",
              "      <td>DU</td>\n",
              "    </tr>\n",
              "    <tr>\n",
              "      <th>d</th>\n",
              "      <td>saumya</td>\n",
              "      <td>24</td>\n",
              "      <td>BHU</td>\n",
              "    </tr>\n",
              "    <tr>\n",
              "      <th>e</th>\n",
              "      <td>devansh</td>\n",
              "      <td>14</td>\n",
              "      <td>Assisi</td>\n",
              "    </tr>\n",
              "  </tbody>\n",
              "</table>\n",
              "</div>"
            ],
            "text/plain": [
              "        Name  Age University\n",
              "a     Ankita   23        BHU\n",
              "b  Aishwarya  NaN        JNU\n",
              "c     ekansh   30         DU\n",
              "d     saumya   24        BHU\n",
              "e    devansh   14     Assisi"
            ]
          },
          "metadata": {
            "tags": []
          },
          "execution_count": 157
        }
      ]
    },
    {
      "cell_type": "code",
      "metadata": {
        "colab": {
          "base_uri": "https://localhost:8080/"
        },
        "id": "cQyoKHwXD3Gg",
        "outputId": "34120e4b-1e11-4cb8-9543-924e2463584c"
      },
      "source": [
        "#use drop() function to delete Row wise\r\n",
        "# to delete a column\r\n",
        "df.pop('Age') #permamnent on dataframe"
      ],
      "execution_count": 158,
      "outputs": [
        {
          "output_type": "execute_result",
          "data": {
            "text/plain": [
              "a     23\n",
              "b    NaN\n",
              "c     30\n",
              "d     24\n",
              "e     14\n",
              "Name: Age, dtype: object"
            ]
          },
          "metadata": {
            "tags": []
          },
          "execution_count": 158
        }
      ]
    },
    {
      "cell_type": "code",
      "metadata": {
        "colab": {
          "base_uri": "https://localhost:8080/",
          "height": 197
        },
        "id": "YwxJ2bg_DKSI",
        "outputId": "9bc2a200-a123-49b7-e6ec-d239bb31fb2e"
      },
      "source": [
        ""
      ],
      "execution_count": 144,
      "outputs": [
        {
          "output_type": "execute_result",
          "data": {
            "text/html": [
              "<div>\n",
              "<style scoped>\n",
              "    .dataframe tbody tr th:only-of-type {\n",
              "        vertical-align: middle;\n",
              "    }\n",
              "\n",
              "    .dataframe tbody tr th {\n",
              "        vertical-align: top;\n",
              "    }\n",
              "\n",
              "    .dataframe thead th {\n",
              "        text-align: right;\n",
              "    }\n",
              "</style>\n",
              "<table border=\"1\" class=\"dataframe\">\n",
              "  <thead>\n",
              "    <tr style=\"text-align: right;\">\n",
              "      <th></th>\n",
              "      <th>Name</th>\n",
              "      <th>Age</th>\n",
              "      <th>University</th>\n",
              "    </tr>\n",
              "  </thead>\n",
              "  <tbody>\n",
              "    <tr>\n",
              "      <th>a</th>\n",
              "      <td>Ankita</td>\n",
              "      <td>23</td>\n",
              "      <td>BHU</td>\n",
              "    </tr>\n",
              "    <tr>\n",
              "      <th>b</th>\n",
              "      <td>Aishwarya</td>\n",
              "      <td>40</td>\n",
              "      <td>JNU</td>\n",
              "    </tr>\n",
              "    <tr>\n",
              "      <th>c</th>\n",
              "      <td>ekansh</td>\n",
              "      <td>28</td>\n",
              "      <td>DU</td>\n",
              "    </tr>\n",
              "    <tr>\n",
              "      <th>d</th>\n",
              "      <td>saumya</td>\n",
              "      <td>24</td>\n",
              "      <td>BHU</td>\n",
              "    </tr>\n",
              "    <tr>\n",
              "      <th>e</th>\n",
              "      <td>devansh</td>\n",
              "      <td>14</td>\n",
              "      <td>Assisi</td>\n",
              "    </tr>\n",
              "  </tbody>\n",
              "</table>\n",
              "</div>"
            ],
            "text/plain": [
              "        Name Age University\n",
              "a     Ankita  23        BHU\n",
              "b  Aishwarya  40        JNU\n",
              "c     ekansh  28         DU\n",
              "d     saumya  24        BHU\n",
              "e    devansh  14     Assisi"
            ]
          },
          "metadata": {
            "tags": []
          },
          "execution_count": 144
        }
      ]
    },
    {
      "cell_type": "code",
      "metadata": {
        "colab": {
          "base_uri": "https://localhost:8080/"
        },
        "id": "wxBIaB3r5kUQ",
        "outputId": "1040c1fe-a9f1-419f-d9bd-65b87748ebf9"
      },
      "source": [
        "df.info()"
      ],
      "execution_count": 164,
      "outputs": [
        {
          "output_type": "stream",
          "text": [
            "<class 'pandas.core.frame.DataFrame'>\n",
            "Index: 4 entries, a to d\n",
            "Data columns (total 3 columns):\n",
            " #   Column      Non-Null Count  Dtype  \n",
            "---  ------      --------------  -----  \n",
            " 0   Name        4 non-null      object \n",
            " 1   Age         3 non-null      float64\n",
            " 2   University  4 non-null      object \n",
            "dtypes: float64(1), object(2)\n",
            "memory usage: 128.0+ bytes\n"
          ],
          "name": "stdout"
        }
      ]
    },
    {
      "cell_type": "code",
      "metadata": {
        "id": "oDOJHmglEM0C"
      },
      "source": [
        "#operations for df missing values\r\n",
        "\r\n",
        "df1 = df.copy()\r\n",
        "meanAge = df1['Age'].mean()\r\n",
        "df1 = df1['Age'].fillna(meanAge)"
      ],
      "execution_count": 172,
      "outputs": []
    },
    {
      "cell_type": "code",
      "metadata": {
        "colab": {
          "base_uri": "https://localhost:8080/",
          "height": 167
        },
        "id": "l52RmO3RFsaD",
        "outputId": "0b0f253c-164a-4184-bd46-bcf8a91df5ad"
      },
      "source": [
        "df"
      ],
      "execution_count": 173,
      "outputs": [
        {
          "output_type": "execute_result",
          "data": {
            "text/html": [
              "<div>\n",
              "<style scoped>\n",
              "    .dataframe tbody tr th:only-of-type {\n",
              "        vertical-align: middle;\n",
              "    }\n",
              "\n",
              "    .dataframe tbody tr th {\n",
              "        vertical-align: top;\n",
              "    }\n",
              "\n",
              "    .dataframe thead th {\n",
              "        text-align: right;\n",
              "    }\n",
              "</style>\n",
              "<table border=\"1\" class=\"dataframe\">\n",
              "  <thead>\n",
              "    <tr style=\"text-align: right;\">\n",
              "      <th></th>\n",
              "      <th>Name</th>\n",
              "      <th>Age</th>\n",
              "      <th>University</th>\n",
              "    </tr>\n",
              "  </thead>\n",
              "  <tbody>\n",
              "    <tr>\n",
              "      <th>a</th>\n",
              "      <td>Ankita</td>\n",
              "      <td>23.0</td>\n",
              "      <td>BHU</td>\n",
              "    </tr>\n",
              "    <tr>\n",
              "      <th>b</th>\n",
              "      <td>Aishwarya</td>\n",
              "      <td>NaN</td>\n",
              "      <td>JNU</td>\n",
              "    </tr>\n",
              "    <tr>\n",
              "      <th>c</th>\n",
              "      <td>ekansh</td>\n",
              "      <td>30.0</td>\n",
              "      <td>DU</td>\n",
              "    </tr>\n",
              "    <tr>\n",
              "      <th>d</th>\n",
              "      <td>saumya</td>\n",
              "      <td>24.0</td>\n",
              "      <td>BHU</td>\n",
              "    </tr>\n",
              "  </tbody>\n",
              "</table>\n",
              "</div>"
            ],
            "text/plain": [
              "        Name   Age University\n",
              "a     Ankita  23.0        BHU\n",
              "b  Aishwarya   NaN        JNU\n",
              "c     ekansh  30.0         DU\n",
              "d     saumya  24.0        BHU"
            ]
          },
          "metadata": {
            "tags": []
          },
          "execution_count": 173
        }
      ]
    },
    {
      "cell_type": "code",
      "metadata": {
        "colab": {
          "base_uri": "https://localhost:8080/"
        },
        "id": "VtiMC4TQFJ4t",
        "outputId": "8ce6cd12-372f-41a4-fcc7-03213241ab02"
      },
      "source": [
        "df1"
      ],
      "execution_count": 180,
      "outputs": [
        {
          "output_type": "execute_result",
          "data": {
            "text/plain": [
              "a    23.000000\n",
              "b    25.666667\n",
              "c    30.000000\n",
              "d    24.000000\n",
              "Name: Age, dtype: float64"
            ]
          },
          "metadata": {
            "tags": []
          },
          "execution_count": 180
        }
      ]
    },
    {
      "cell_type": "code",
      "metadata": {
        "colab": {
          "base_uri": "https://localhost:8080/",
          "height": 137
        },
        "id": "25sPJBQEFu7s",
        "outputId": "271d48b9-bc41-4f87-c7db-c645c143ec50"
      },
      "source": [
        "df2 = df.copy()\r\n",
        "df2.dropna(how=\"any\")\r\n",
        "# df2.dropna(axis='columns') #Drop the columns where at least one element is missing.\r\n",
        "# df2.dropna(how='all') #Drop the rows where all elements are missing.\r\n",
        "# df2.dropna(thresh=2) # Keep only the rows with at least 2 non-NA values.\r\n",
        "# df2.dropna(subset=['Name', 'Age']) #Define in which columns to look for missing values."
      ],
      "execution_count": 182,
      "outputs": [
        {
          "output_type": "execute_result",
          "data": {
            "text/html": [
              "<div>\n",
              "<style scoped>\n",
              "    .dataframe tbody tr th:only-of-type {\n",
              "        vertical-align: middle;\n",
              "    }\n",
              "\n",
              "    .dataframe tbody tr th {\n",
              "        vertical-align: top;\n",
              "    }\n",
              "\n",
              "    .dataframe thead th {\n",
              "        text-align: right;\n",
              "    }\n",
              "</style>\n",
              "<table border=\"1\" class=\"dataframe\">\n",
              "  <thead>\n",
              "    <tr style=\"text-align: right;\">\n",
              "      <th></th>\n",
              "      <th>Name</th>\n",
              "      <th>Age</th>\n",
              "      <th>University</th>\n",
              "    </tr>\n",
              "  </thead>\n",
              "  <tbody>\n",
              "    <tr>\n",
              "      <th>a</th>\n",
              "      <td>Ankita</td>\n",
              "      <td>23.0</td>\n",
              "      <td>BHU</td>\n",
              "    </tr>\n",
              "    <tr>\n",
              "      <th>c</th>\n",
              "      <td>ekansh</td>\n",
              "      <td>30.0</td>\n",
              "      <td>DU</td>\n",
              "    </tr>\n",
              "    <tr>\n",
              "      <th>d</th>\n",
              "      <td>saumya</td>\n",
              "      <td>24.0</td>\n",
              "      <td>BHU</td>\n",
              "    </tr>\n",
              "  </tbody>\n",
              "</table>\n",
              "</div>"
            ],
            "text/plain": [
              "     Name   Age University\n",
              "a  Ankita  23.0        BHU\n",
              "c  ekansh  30.0         DU\n",
              "d  saumya  24.0        BHU"
            ]
          },
          "metadata": {
            "tags": []
          },
          "execution_count": 182
        }
      ]
    },
    {
      "cell_type": "markdown",
      "metadata": {
        "id": "fJdNX0DtHq2X"
      },
      "source": [
        "File Operations"
      ]
    },
    {
      "cell_type": "code",
      "metadata": {
        "id": "co_s9O-XGaMD"
      },
      "source": [
        "df.to_csv('example.csv') #to save in a file"
      ],
      "execution_count": null,
      "outputs": []
    },
    {
      "cell_type": "code",
      "metadata": {
        "id": "aEFsZ2fhH4gj"
      },
      "source": [
        "#to read from a file csv/tsv\r\n",
        "df= pd.read_csv(\"\")"
      ],
      "execution_count": null,
      "outputs": []
    },
    {
      "cell_type": "markdown",
      "metadata": {
        "id": "URYBePiIIdde"
      },
      "source": [
        "Visualization in pandas\r\n"
      ]
    },
    {
      "cell_type": "code",
      "metadata": {
        "colab": {
          "base_uri": "https://localhost:8080/",
          "height": 288
        },
        "id": "RCqXcy2-Ighd",
        "outputId": "acd00b60-4864-4fd7-f65d-e065acf9731c"
      },
      "source": [
        "#pandas has its connection with matplotlib, so its ok if we dont import it\r\n",
        "\r\n",
        "import numpy as np\r\n",
        "%matplotlib inline\r\n",
        "\r\n",
        "ts = pd.Series(np.random.randn(50), index = pd.date_range('today', periods=50))\r\n",
        "ts = ts.cumsum()\r\n",
        "ts.plot()"
      ],
      "execution_count": 183,
      "outputs": [
        {
          "output_type": "execute_result",
          "data": {
            "text/plain": [
              "<matplotlib.axes._subplots.AxesSubplot at 0x7f6e0acee7b8>"
            ]
          },
          "metadata": {
            "tags": []
          },
          "execution_count": 183
        },
        {
          "output_type": "display_data",
          "data": {
            "image/png": "[encoded data removed]",
            "text/plain": [
              "<Figure size 432x288 with 1 Axes>"
            ]
          },
          "metadata": {
            "tags": [],
            "needs_background": "light"
          }
        }
      ]
    },
    {
      "cell_type": "markdown",
      "metadata": {
        "id": "crDgYZUSJzRH"
      },
      "source": [
        "Remove repeated data using pandas"
      ]
    },
    {
      "cell_type": "code",
      "metadata": {
        "colab": {
          "base_uri": "https://localhost:8080/",
          "height": 317
        },
        "id": "gxit2pR4JcXn",
        "outputId": "d11c1670-2cc2-4399-e263-661661a575c6"
      },
      "source": [
        "df = pd.DataFrame({'A':[1,2,2,2,3,4,5,5,5,5,5,6,7,8,9]})\r\n",
        "df.loc[df['A'].shift()!=df['A']] #shift up by1"
      ],
      "execution_count": 187,
      "outputs": [
        {
          "output_type": "execute_result",
          "data": {
            "text/html": [
              "<div>\n",
              "<style scoped>\n",
              "    .dataframe tbody tr th:only-of-type {\n",
              "        vertical-align: middle;\n",
              "    }\n",
              "\n",
              "    .dataframe tbody tr th {\n",
              "        vertical-align: top;\n",
              "    }\n",
              "\n",
              "    .dataframe thead th {\n",
              "        text-align: right;\n",
              "    }\n",
              "</style>\n",
              "<table border=\"1\" class=\"dataframe\">\n",
              "  <thead>\n",
              "    <tr style=\"text-align: right;\">\n",
              "      <th></th>\n",
              "      <th>A</th>\n",
              "    </tr>\n",
              "  </thead>\n",
              "  <tbody>\n",
              "    <tr>\n",
              "      <th>0</th>\n",
              "      <td>1</td>\n",
              "    </tr>\n",
              "    <tr>\n",
              "      <th>1</th>\n",
              "      <td>2</td>\n",
              "    </tr>\n",
              "    <tr>\n",
              "      <th>4</th>\n",
              "      <td>3</td>\n",
              "    </tr>\n",
              "    <tr>\n",
              "      <th>5</th>\n",
              "      <td>4</td>\n",
              "    </tr>\n",
              "    <tr>\n",
              "      <th>6</th>\n",
              "      <td>5</td>\n",
              "    </tr>\n",
              "    <tr>\n",
              "      <th>11</th>\n",
              "      <td>6</td>\n",
              "    </tr>\n",
              "    <tr>\n",
              "      <th>12</th>\n",
              "      <td>7</td>\n",
              "    </tr>\n",
              "    <tr>\n",
              "      <th>13</th>\n",
              "      <td>8</td>\n",
              "    </tr>\n",
              "    <tr>\n",
              "      <th>14</th>\n",
              "      <td>9</td>\n",
              "    </tr>\n",
              "  </tbody>\n",
              "</table>\n",
              "</div>"
            ],
            "text/plain": [
              "    A\n",
              "0   1\n",
              "1   2\n",
              "4   3\n",
              "5   4\n",
              "6   5\n",
              "11  6\n",
              "12  7\n",
              "13  8\n",
              "14  9"
            ]
          },
          "metadata": {
            "tags": []
          },
          "execution_count": 187
        }
      ]
    },
    {
      "cell_type": "code",
      "metadata": {
        "id": "vIbIrJQSKDgP"
      },
      "source": [
        ""
      ],
      "execution_count": null,
      "outputs": []
    }
  ]
}